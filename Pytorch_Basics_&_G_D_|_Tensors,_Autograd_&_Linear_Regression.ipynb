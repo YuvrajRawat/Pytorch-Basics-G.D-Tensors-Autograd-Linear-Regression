{
  "nbformat": 4,
  "nbformat_minor": 0,
  "metadata": {
    "colab": {
      "provenance": [],
      "authorship_tag": "ABX9TyOM6RIX/1bRFe7/1E+GtTte",
      "include_colab_link": true
    },
    "kernelspec": {
      "name": "python3",
      "display_name": "Python 3"
    },
    "language_info": {
      "name": "python"
    }
  },
  "cells": [
    {
      "cell_type": "markdown",
      "metadata": {
        "id": "view-in-github",
        "colab_type": "text"
      },
      "source": [
        "<a href=\"https://colab.research.google.com/github/YuvrajRawat/Pytorch-Basics-G.D-Tensors-Autograd-Linear-Regression/blob/main/Pytorch_Basics_%26_G_D_%7C_Tensors%2C_Autograd_%26_Linear_Regression.ipynb\" target=\"_parent\"><img src=\"https://colab.research.google.com/assets/colab-badge.svg\" alt=\"Open In Colab\"/></a>"
      ]
    },
    {
      "cell_type": "code",
      "source": [
        "import torch"
      ],
      "metadata": {
        "id": "FtclmvyBoEYa"
      },
      "execution_count": null,
      "outputs": []
    },
    {
      "cell_type": "code",
      "source": [
        "tensor1 = torch.tensor(5.) #tensor1 is a tensor having single element 4.0\n",
        "tensor1"
      ],
      "metadata": {
        "colab": {
          "base_uri": "https://localhost:8080/"
        },
        "id": "z0_B8IKxpZNO",
        "outputId": "7fd8e846-be7b-407b-81d7-660690b8e3fa"
      },
      "execution_count": null,
      "outputs": [
        {
          "output_type": "execute_result",
          "data": {
            "text/plain": [
              "tensor(5.)"
            ]
          },
          "metadata": {},
          "execution_count": 5
        }
      ]
    },
    {
      "cell_type": "code",
      "source": [
        "tensor1.dtype #dtype function shows datatype of tensor1"
      ],
      "metadata": {
        "colab": {
          "base_uri": "https://localhost:8080/"
        },
        "id": "Zpd-MZO1q9Ul",
        "outputId": "7ffde01c-fb3b-484f-a042-92571ead7b35"
      },
      "execution_count": null,
      "outputs": [
        {
          "output_type": "execute_result",
          "data": {
            "text/plain": [
              "torch.float32"
            ]
          },
          "metadata": {},
          "execution_count": 6
        }
      ]
    },
    {
      "cell_type": "code",
      "source": [
        "tensor2 = torch.tensor([1., 2, 3, 4]) #tensor2 considered as 1-D tensor called row vector\n",
        "tensor2"
      ],
      "metadata": {
        "colab": {
          "base_uri": "https://localhost:8080/"
        },
        "id": "KMSa6y6LrIR-",
        "outputId": "50f9c976-a6c3-4b4c-bfe0-2449024cdc16"
      },
      "execution_count": null,
      "outputs": [
        {
          "output_type": "execute_result",
          "data": {
            "text/plain": [
              "tensor([1., 2., 3., 4.])"
            ]
          },
          "metadata": {},
          "execution_count": 7
        }
      ]
    },
    {
      "cell_type": "code",
      "source": [
        "tensor3 = torch.tensor([[1.],[2],[3.],[4]]) #coloumn vector\n",
        "tensor3"
      ],
      "metadata": {
        "colab": {
          "base_uri": "https://localhost:8080/"
        },
        "id": "wFVkR5jKs8PV",
        "outputId": "883b45e5-0d29-4e0b-800b-ebe55f35d723"
      },
      "execution_count": null,
      "outputs": [
        {
          "output_type": "execute_result",
          "data": {
            "text/plain": [
              "tensor([[1.],\n",
              "        [2.],\n",
              "        [3.],\n",
              "        [4.]])"
            ]
          },
          "metadata": {},
          "execution_count": 8
        }
      ]
    },
    {
      "cell_type": "code",
      "source": [
        "tensor4 = torch.tensor([[5, 6],\n",
        "                        [6, 7],\n",
        "                        [7, 8],\n",
        "                        [8, 9]]) #tenssor4 is a matrix of 4 X 3 dimension\n",
        "tensor4"
      ],
      "metadata": {
        "colab": {
          "base_uri": "https://localhost:8080/"
        },
        "id": "wXp_1l5uu9zJ",
        "outputId": "da224902-b751-4e67-9114-9680daee02c7"
      },
      "execution_count": null,
      "outputs": [
        {
          "output_type": "execute_result",
          "data": {
            "text/plain": [
              "tensor([[5, 6],\n",
              "        [6, 7],\n",
              "        [7, 8],\n",
              "        [8, 9]])"
            ]
          },
          "metadata": {},
          "execution_count": 9
        }
      ]
    },
    {
      "cell_type": "code",
      "source": [
        "tensor5 = torch.tensor([[[1],[2]],\n",
        "                        [[4],[5],[6]],\n",
        "                        [[7],[8]],\n",
        "                        [1]])\n",
        "tensor5"
      ],
      "metadata": {
        "colab": {
          "base_uri": "https://localhost:8080/",
          "height": 235
        },
        "id": "TZDFMbw2ww-R",
        "outputId": "1aef7e9b-2a57-41e1-dee2-9bb6d11a7ea9"
      },
      "execution_count": null,
      "outputs": [
        {
          "output_type": "error",
          "ename": "ValueError",
          "evalue": "ignored",
          "traceback": [
            "\u001b[0;31m---------------------------------------------------------------------------\u001b[0m",
            "\u001b[0;31mValueError\u001b[0m                                Traceback (most recent call last)",
            "\u001b[0;32m<ipython-input-10-ce778ce55ea5>\u001b[0m in \u001b[0;36m<cell line: 1>\u001b[0;34m()\u001b[0m\n\u001b[0;32m----> 1\u001b[0;31m tensor5 = torch.tensor([[[1],[2]],\n\u001b[0m\u001b[1;32m      2\u001b[0m                         \u001b[0;34m[\u001b[0m\u001b[0;34m[\u001b[0m\u001b[0;36m4\u001b[0m\u001b[0;34m]\u001b[0m\u001b[0;34m,\u001b[0m\u001b[0;34m[\u001b[0m\u001b[0;36m5\u001b[0m\u001b[0;34m]\u001b[0m\u001b[0;34m,\u001b[0m\u001b[0;34m[\u001b[0m\u001b[0;36m6\u001b[0m\u001b[0;34m]\u001b[0m\u001b[0;34m]\u001b[0m\u001b[0;34m,\u001b[0m\u001b[0;34m\u001b[0m\u001b[0;34m\u001b[0m\u001b[0m\n\u001b[1;32m      3\u001b[0m                         \u001b[0;34m[\u001b[0m\u001b[0;34m[\u001b[0m\u001b[0;36m7\u001b[0m\u001b[0;34m]\u001b[0m\u001b[0;34m,\u001b[0m\u001b[0;34m[\u001b[0m\u001b[0;36m8\u001b[0m\u001b[0;34m]\u001b[0m\u001b[0;34m]\u001b[0m\u001b[0;34m,\u001b[0m\u001b[0;34m\u001b[0m\u001b[0;34m\u001b[0m\u001b[0m\n\u001b[1;32m      4\u001b[0m                         [1]])\n\u001b[1;32m      5\u001b[0m \u001b[0mtensor5\u001b[0m\u001b[0;34m\u001b[0m\u001b[0;34m\u001b[0m\u001b[0m\n",
            "\u001b[0;31mValueError\u001b[0m: expected sequence of length 2 at dim 1 (got 3)"
          ]
        }
      ]
    },
    {
      "cell_type": "code",
      "source": [
        "print(tensor1)\n",
        "tensor1.shape #because tensor1 have 0 dimension"
      ],
      "metadata": {
        "colab": {
          "base_uri": "https://localhost:8080/"
        },
        "id": "KYn1fKqpxyb4",
        "outputId": "b247a012-8b8e-4b27-afa8-ca348aaa66f2"
      },
      "execution_count": null,
      "outputs": [
        {
          "output_type": "stream",
          "name": "stdout",
          "text": [
            "tensor(5.)\n"
          ]
        },
        {
          "output_type": "execute_result",
          "data": {
            "text/plain": [
              "torch.Size([])"
            ]
          },
          "metadata": {},
          "execution_count": 15
        }
      ]
    },
    {
      "cell_type": "code",
      "source": [
        "print(tensor2)\n",
        "tensor2.shape #because tensor2 have 1 dimension... 4 element in 1 direction"
      ],
      "metadata": {
        "colab": {
          "base_uri": "https://localhost:8080/"
        },
        "id": "EQkK6Lvax5vj",
        "outputId": "a8d03130-2f40-44a7-b673-5e103b51761c"
      },
      "execution_count": null,
      "outputs": [
        {
          "output_type": "stream",
          "name": "stdout",
          "text": [
            "tensor([1., 2., 3., 4.])\n"
          ]
        },
        {
          "output_type": "execute_result",
          "data": {
            "text/plain": [
              "torch.Size([4])"
            ]
          },
          "metadata": {},
          "execution_count": 16
        }
      ]
    },
    {
      "cell_type": "code",
      "source": [
        "print(tensor3)\n",
        "tensor3.shape #because tensor3 have 4 rows and 1 coloumn"
      ],
      "metadata": {
        "colab": {
          "base_uri": "https://localhost:8080/"
        },
        "id": "7q_sQAANyBUD",
        "outputId": "8ce5ccfa-2cb5-4850-b9f8-9b791231c0d1"
      },
      "execution_count": null,
      "outputs": [
        {
          "output_type": "stream",
          "name": "stdout",
          "text": [
            "tensor([[1.],\n",
            "        [2.],\n",
            "        [3.],\n",
            "        [4.]])\n"
          ]
        },
        {
          "output_type": "execute_result",
          "data": {
            "text/plain": [
              "torch.Size([4, 1])"
            ]
          },
          "metadata": {},
          "execution_count": 17
        }
      ]
    },
    {
      "cell_type": "code",
      "source": [
        "print(tensor4)\n",
        "tensor4.shape #because tensor4 have 4 rows and 2 coloumn"
      ],
      "metadata": {
        "colab": {
          "base_uri": "https://localhost:8080/"
        },
        "id": "B9tPl865zF5V",
        "outputId": "c28acde9-d6b0-4127-f616-4fc68ddf1f15"
      },
      "execution_count": null,
      "outputs": [
        {
          "output_type": "stream",
          "name": "stdout",
          "text": [
            "tensor([[5, 6],\n",
            "        [6, 7],\n",
            "        [7, 8],\n",
            "        [8, 9]])\n"
          ]
        },
        {
          "output_type": "execute_result",
          "data": {
            "text/plain": [
              "torch.Size([4, 2])"
            ]
          },
          "metadata": {},
          "execution_count": 18
        }
      ]
    },
    {
      "cell_type": "code",
      "source": [
        "x = torch.tensor(3.)\n",
        "w = torch.tensor(4., requires_grad=True)\n",
        "b = torch.tensor(5., requires_grad=True)\n",
        "x, w, b"
      ],
      "metadata": {
        "colab": {
          "base_uri": "https://localhost:8080/"
        },
        "id": "7t3Rdz6m0Ie2",
        "outputId": "ad7b25ac-6fd6-42af-bfd7-6ec8ba386410"
      },
      "execution_count": null,
      "outputs": [
        {
          "output_type": "execute_result",
          "data": {
            "text/plain": [
              "(tensor(3.), tensor(4., requires_grad=True), tensor(5., requires_grad=True))"
            ]
          },
          "metadata": {},
          "execution_count": 20
        }
      ]
    },
    {
      "cell_type": "code",
      "source": [
        "y = w * x + b\n",
        "y"
      ],
      "metadata": {
        "id": "3EGMWK042aqQ",
        "colab": {
          "base_uri": "https://localhost:8080/"
        },
        "outputId": "f4eb8797-449a-4816-9ef0-7dcefdf06afb"
      },
      "execution_count": null,
      "outputs": [
        {
          "output_type": "execute_result",
          "data": {
            "text/plain": [
              "tensor(17., grad_fn=<AddBackward0>)"
            ]
          },
          "metadata": {},
          "execution_count": 26
        }
      ]
    },
    {
      "cell_type": "code",
      "source": [
        "#compute derivative\n",
        "y.backward()"
      ],
      "metadata": {
        "id": "QOLTI0TvEJRg"
      },
      "execution_count": null,
      "outputs": []
    },
    {
      "cell_type": "code",
      "source": [
        "#display gradient\n",
        "print('dy/dx:',x.grad)\n",
        "print('dy/dw:',w.grad) #we are  interested in future output of w and b\n",
        "print('dy/db:',b.grad)\n"
      ],
      "metadata": {
        "colab": {
          "base_uri": "https://localhost:8080/"
        },
        "id": "5jcS1hnSEovI",
        "outputId": "c18798d2-491f-4d28-a270-e52bd853d800"
      },
      "execution_count": null,
      "outputs": [
        {
          "output_type": "stream",
          "name": "stdout",
          "text": [
            "dy/dx: None\n",
            "dy/dw: tensor(6.)\n",
            "dy/db: tensor(5.)\n"
          ]
        }
      ]
    },
    {
      "cell_type": "code",
      "source": [
        "#tensor Func."
      ],
      "metadata": {
        "id": "3Od_as0DFoHL"
      },
      "execution_count": null,
      "outputs": []
    },
    {
      "cell_type": "code",
      "source": [
        "tensor5 = torch.full((3,2),42)   #full fuctionn create a tensor of given dimension of the given element\n",
        "tensor5"
      ],
      "metadata": {
        "colab": {
          "base_uri": "https://localhost:8080/"
        },
        "id": "gnHfAFWttj2e",
        "outputId": "06175d50-ded1-45c4-cf35-15478551e723"
      },
      "execution_count": null,
      "outputs": [
        {
          "output_type": "execute_result",
          "data": {
            "text/plain": [
              "tensor([[42, 42],\n",
              "        [42, 42],\n",
              "        [42, 42]])"
            ]
          },
          "metadata": {},
          "execution_count": 30
        }
      ]
    },
    {
      "cell_type": "code",
      "source": [
        "tensor6 = torch.full((3,2),52)\n",
        "tensor6"
      ],
      "metadata": {
        "colab": {
          "base_uri": "https://localhost:8080/"
        },
        "id": "38XEls5zt0DA",
        "outputId": "738e001d-cf6b-4f74-959b-b4fd7e1e77f9"
      },
      "execution_count": null,
      "outputs": [
        {
          "output_type": "execute_result",
          "data": {
            "text/plain": [
              "tensor([[52, 52],\n",
              "        [52, 52],\n",
              "        [52, 52]])"
            ]
          },
          "metadata": {},
          "execution_count": 32
        }
      ]
    },
    {
      "cell_type": "code",
      "source": [
        "tensor7 = torch.cat((tensor5,tensor6))    #cat funct concatinate 2 tensor\n",
        "tensor7"
      ],
      "metadata": {
        "colab": {
          "base_uri": "https://localhost:8080/"
        },
        "id": "gickFMITuLSw",
        "outputId": "06a7eaf2-ac7d-49a8-816f-4f6a3e6f5df1"
      },
      "execution_count": null,
      "outputs": [
        {
          "output_type": "execute_result",
          "data": {
            "text/plain": [
              "tensor([[42, 42],\n",
              "        [42, 42],\n",
              "        [42, 42],\n",
              "        [52, 52],\n",
              "        [52, 52],\n",
              "        [52, 52]])"
            ]
          },
          "metadata": {},
          "execution_count": 36
        }
      ]
    },
    {
      "cell_type": "code",
      "source": [
        "tensor8 = torch.sin(tensor7)   #compute the sin of each element\n",
        "tensor8"
      ],
      "metadata": {
        "colab": {
          "base_uri": "https://localhost:8080/"
        },
        "id": "YJMFbNUpudbq",
        "outputId": "8afe8187-8f2b-4f95-b95c-102fd10deb64"
      },
      "execution_count": null,
      "outputs": [
        {
          "output_type": "execute_result",
          "data": {
            "text/plain": [
              "tensor([[-0.9165, -0.9165],\n",
              "        [-0.9165, -0.9165],\n",
              "        [-0.9165, -0.9165],\n",
              "        [ 0.9866,  0.9866],\n",
              "        [ 0.9866,  0.9866],\n",
              "        [ 0.9866,  0.9866]])"
            ]
          },
          "metadata": {},
          "execution_count": 37
        }
      ]
    },
    {
      "cell_type": "code",
      "source": [
        "tensor9 = tensor8.reshape(3,2,2)\n",
        "tensor9"
      ],
      "metadata": {
        "colab": {
          "base_uri": "https://localhost:8080/"
        },
        "id": "ER2igt5ZvIJd",
        "outputId": "7f7aa286-9850-4dca-c671-e03bc50c074e"
      },
      "execution_count": null,
      "outputs": [
        {
          "output_type": "execute_result",
          "data": {
            "text/plain": [
              "tensor([[[-0.9165, -0.9165],\n",
              "         [-0.9165, -0.9165]],\n",
              "\n",
              "        [[-0.9165, -0.9165],\n",
              "         [ 0.9866,  0.9866]],\n",
              "\n",
              "        [[ 0.9866,  0.9866],\n",
              "         [ 0.9866,  0.9866]]])"
            ]
          },
          "metadata": {},
          "execution_count": 39
        }
      ]
    },
    {
      "cell_type": "code",
      "source": [
        "import numpy as np\n",
        "\n",
        "x = np.array([[1,2],\n",
        "              [3,4]])\n",
        "x"
      ],
      "metadata": {
        "colab": {
          "base_uri": "https://localhost:8080/"
        },
        "id": "sM-o2nDuvWD0",
        "outputId": "e12928e7-3738-4652-adeb-556db39e04fc"
      },
      "execution_count": null,
      "outputs": [
        {
          "output_type": "execute_result",
          "data": {
            "text/plain": [
              "array([[1, 2],\n",
              "       [3, 4]])"
            ]
          },
          "metadata": {},
          "execution_count": 43
        }
      ]
    },
    {
      "cell_type": "code",
      "source": [
        "#convert numpy array to a torch tensor\n",
        "y = torch.from_numpy(x)\n",
        "y"
      ],
      "metadata": {
        "colab": {
          "base_uri": "https://localhost:8080/"
        },
        "id": "EOmLrwIuv7T3",
        "outputId": "7cb4274d-b9ad-46c4-e65c-892ed530996a"
      },
      "execution_count": null,
      "outputs": [
        {
          "output_type": "execute_result",
          "data": {
            "text/plain": [
              "tensor([[1, 2],\n",
              "        [3, 4]])"
            ]
          },
          "metadata": {},
          "execution_count": 44
        }
      ]
    },
    {
      "cell_type": "code",
      "source": [
        "x.dtype , y.dtype"
      ],
      "metadata": {
        "colab": {
          "base_uri": "https://localhost:8080/"
        },
        "id": "pxGHnPkrwi1_",
        "outputId": "b4dc8ab3-6a36-4a69-a1b3-42018266b067"
      },
      "execution_count": null,
      "outputs": [
        {
          "output_type": "execute_result",
          "data": {
            "text/plain": [
              "(dtype('int64'), torch.int64)"
            ]
          },
          "metadata": {},
          "execution_count": 45
        }
      ]
    },
    {
      "cell_type": "code",
      "source": [
        "#convert torch tensor to a numpy array\n",
        "z = y.numpy()\n",
        "z"
      ],
      "metadata": {
        "colab": {
          "base_uri": "https://localhost:8080/"
        },
        "id": "tiuFlU_fwoBE",
        "outputId": "0cd9e8f4-69b8-4f24-c2ca-f90b5e1801f1"
      },
      "execution_count": null,
      "outputs": [
        {
          "output_type": "execute_result",
          "data": {
            "text/plain": [
              "array([[1, 2],\n",
              "       [3, 4]])"
            ]
          },
          "metadata": {},
          "execution_count": 46
        }
      ]
    },
    {
      "cell_type": "markdown",
      "source": [
        "## **Build Linear Regression Model**"
      ],
      "metadata": {
        "id": "HxtsFcfl6VoY"
      }
    },
    {
      "cell_type": "code",
      "source": [
        "import numpy as np\n",
        "import torch"
      ],
      "metadata": {
        "id": "ett1-y4F6lR0"
      },
      "execution_count": null,
      "outputs": []
    },
    {
      "cell_type": "code",
      "source": [
        "#input (temp., rainfall, humidity)\n",
        "input = np.array([[73, 67, 89],\n",
        "                  [56, 89, 79],\n",
        "                  [46, 78, 92],\n",
        "                  [78, 67, 89],\n",
        "                  [34, 67, 89]], dtype = 'float32')"
      ],
      "metadata": {
        "id": "J6p1rfiJ6o_x"
      },
      "execution_count": null,
      "outputs": []
    },
    {
      "cell_type": "code",
      "source": [
        "#target (mango, banana)\n",
        "target = np.array([[79, 69],\n",
        "                  [99, 69],\n",
        "                  [68, 52],\n",
        "                  [79, 79],\n",
        "                  [57, 29]], dtype = 'float32')"
      ],
      "metadata": {
        "id": "660G48BVOeoA"
      },
      "execution_count": null,
      "outputs": []
    },
    {
      "cell_type": "code",
      "source": [
        "#convert  input and target into tensor\n",
        "input = torch.from_numpy(input)\n",
        "target = torch.from_numpy(target)\n",
        "print(input)\n",
        "print(target)"
      ],
      "metadata": {
        "colab": {
          "base_uri": "https://localhost:8080/"
        },
        "id": "UYd8p-3lO28p",
        "outputId": "adeff7be-d6a5-496e-a211-f137fc40d3bf"
      },
      "execution_count": null,
      "outputs": [
        {
          "output_type": "stream",
          "name": "stdout",
          "text": [
            "tensor([[73., 67., 89.],\n",
            "        [56., 89., 79.],\n",
            "        [46., 78., 92.],\n",
            "        [78., 67., 89.],\n",
            "        [34., 67., 89.]])\n",
            "tensor([[79., 69.],\n",
            "        [99., 69.],\n",
            "        [68., 52.],\n",
            "        [79., 79.],\n",
            "        [57., 29.]])\n"
          ]
        }
      ]
    },
    {
      "cell_type": "code",
      "source": [
        "#weight and bias\n",
        "w = torch.randn(2,3, requires_grad=True)\n",
        "b = torch.randn(2, requires_grad=True)\n",
        "print(w)\n",
        "print(b)"
      ],
      "metadata": {
        "colab": {
          "base_uri": "https://localhost:8080/"
        },
        "id": "A_0ZX3jEPPSr",
        "outputId": "80a83e6c-3321-46f1-a077-b25b2ab00fca"
      },
      "execution_count": null,
      "outputs": [
        {
          "output_type": "stream",
          "name": "stdout",
          "text": [
            "tensor([[-0.5745, -1.5065,  1.5897],\n",
            "        [-1.0951,  0.5492,  1.1875]], requires_grad=True)\n",
            "tensor([0.3607, 0.4524], requires_grad=True)\n"
          ]
        }
      ]
    },
    {
      "cell_type": "code",
      "source": [
        "input @ w.t() + b #multiplication of input with weight transpose and adding the bias term"
      ],
      "metadata": {
        "colab": {
          "base_uri": "https://localhost:8080/"
        },
        "id": "llSvsJfxQuS_",
        "outputId": "eb7c5afd-6feb-47fc-9951-029592a5024b"
      },
      "execution_count": null,
      "outputs": [
        {
          "output_type": "execute_result",
          "data": {
            "text/plain": [
              "tensor([[ -1.0241,  62.9978],\n",
              "        [-40.2991,  81.8219],\n",
              "        [  2.6836, 102.1690],\n",
              "        [ -3.8964,  57.5224],\n",
              "        [ 21.3794, 105.7061]], grad_fn=<AddBackward0>)"
            ]
          },
          "metadata": {},
          "execution_count": 56
        }
      ]
    },
    {
      "cell_type": "code",
      "source": [
        "def model(x):\n",
        "  return x @ w.t() + b"
      ],
      "metadata": {
        "id": "CGW6jhcmRG-F"
      },
      "execution_count": null,
      "outputs": []
    },
    {
      "cell_type": "code",
      "source": [
        "#generate pred.\n",
        "pred = model(input)\n",
        "print(pred)"
      ],
      "metadata": {
        "colab": {
          "base_uri": "https://localhost:8080/"
        },
        "id": "6i-GEqDqSIHe",
        "outputId": "895644a2-bfe1-4460-fda6-27063138f71b"
      },
      "execution_count": null,
      "outputs": [
        {
          "output_type": "stream",
          "name": "stdout",
          "text": [
            "tensor([[ -1.0241,  62.9978],\n",
            "        [-40.2991,  81.8219],\n",
            "        [  2.6836, 102.1690],\n",
            "        [ -3.8964,  57.5224],\n",
            "        [ 21.3794, 105.7061]], grad_fn=<AddBackward0>)\n"
          ]
        }
      ]
    },
    {
      "cell_type": "code",
      "source": [
        "print(target)  #compare with target"
      ],
      "metadata": {
        "colab": {
          "base_uri": "https://localhost:8080/"
        },
        "id": "LIjCvrOjSXyx",
        "outputId": "2d200b70-4131-4b51-9cd1-e486e20012a9"
      },
      "execution_count": null,
      "outputs": [
        {
          "output_type": "stream",
          "name": "stdout",
          "text": [
            "tensor([[79., 69.],\n",
            "        [99., 69.],\n",
            "        [68., 52.],\n",
            "        [79., 79.],\n",
            "        [57., 29.]])\n"
          ]
        }
      ]
    },
    {
      "cell_type": "code",
      "source": [
        "diff = pred - target\n",
        "torch.sum(diff * diff) / diff.numel()  # mse loss (represent info. loss in the model)"
      ],
      "metadata": {
        "colab": {
          "base_uri": "https://localhost:8080/"
        },
        "id": "Qbq6_1fRSdgf",
        "outputId": "e0f48f56-5682-454e-a44c-a7847247f4e9"
      },
      "execution_count": null,
      "outputs": [
        {
          "output_type": "execute_result",
          "data": {
            "text/plain": [
              "tensor(4727.7432, grad_fn=<DivBackward0>)"
            ]
          },
          "metadata": {},
          "execution_count": 68
        }
      ]
    },
    {
      "cell_type": "code",
      "source": [
        "def mse(t1, t2):\n",
        "   diff = t1 - t2\n",
        "   return torch.sum(diff * diff) / diff.numel()"
      ],
      "metadata": {
        "id": "JlM9qVNiTiRM"
      },
      "execution_count": null,
      "outputs": []
    },
    {
      "cell_type": "code",
      "source": [
        "#compute loss\n",
        "loss = mse(pred, target)\n",
        "print(loss)"
      ],
      "metadata": {
        "colab": {
          "base_uri": "https://localhost:8080/"
        },
        "id": "zp-RKRp9UvKD",
        "outputId": "e31c5ad2-3c1c-4d0f-ba94-f308f8b25543"
      },
      "execution_count": null,
      "outputs": [
        {
          "output_type": "stream",
          "name": "stdout",
          "text": [
            "tensor(4727.7432, grad_fn=<DivBackward0>)\n"
          ]
        }
      ]
    },
    {
      "cell_type": "markdown",
      "source": [
        "## **Compute** **gradient**"
      ],
      "metadata": {
        "id": "nF_22B9XU7Qj"
      }
    },
    {
      "cell_type": "code",
      "source": [
        "#compute gradient\n",
        "loss.backward()"
      ],
      "metadata": {
        "id": "WEvIaJAVVfa2"
      },
      "execution_count": null,
      "outputs": []
    },
    {
      "cell_type": "code",
      "source": [
        "#gradient for weight\n",
        "print(w)\n",
        "print(w.grad)     # is the derivative of loss w.r.t the element of w"
      ],
      "metadata": {
        "colab": {
          "base_uri": "https://localhost:8080/"
        },
        "id": "WmAIbYVsViWw",
        "outputId": "0de3b12e-50e0-470b-ebf4-2a1117845241"
      },
      "execution_count": null,
      "outputs": [
        {
          "output_type": "stream",
          "name": "stdout",
          "text": [
            "tensor([[-0.5745, -1.5065,  1.5897],\n",
            "        [-1.0951,  0.5492,  1.1875]], requires_grad=True)\n",
            "tensor([[-4864.8164, -6158.9102, -6936.7788],\n",
            "        [  704.0787,  1670.4985,  2001.9237]])\n"
          ]
        }
      ]
    },
    {
      "cell_type": "code",
      "source": [
        "print(b)\n",
        "print(b.grad)"
      ],
      "metadata": {
        "colab": {
          "base_uri": "https://localhost:8080/"
        },
        "id": "-xao2VkhVqyl",
        "outputId": "6021180b-a3c8-4fce-9325-21f23bc610db"
      },
      "execution_count": null,
      "outputs": [
        {
          "output_type": "stream",
          "name": "stdout",
          "text": [
            "tensor([0.3607, 0.4524], requires_grad=True)\n",
            "tensor([-241.8939,   67.3303])\n"
          ]
        }
      ]
    },
    {
      "cell_type": "code",
      "source": [
        "print(w)\n",
        "w - w.grad * 1e-5 # learning rate"
      ],
      "metadata": {
        "colab": {
          "base_uri": "https://localhost:8080/"
        },
        "id": "yec-_VipWR3Q",
        "outputId": "139cbd9c-925b-4151-a0f6-2cf198bb484c"
      },
      "execution_count": null,
      "outputs": [
        {
          "output_type": "stream",
          "name": "stdout",
          "text": [
            "tensor([[-0.5745, -1.5065,  1.5897],\n",
            "        [-1.0951,  0.5492,  1.1875]], requires_grad=True)\n"
          ]
        },
        {
          "output_type": "execute_result",
          "data": {
            "text/plain": [
              "tensor([[-0.5258, -1.4449,  1.6591],\n",
              "        [-1.1021,  0.5325,  1.1675]], grad_fn=<SubBackward0>)"
            ]
          },
          "metadata": {},
          "execution_count": 76
        }
      ]
    },
    {
      "cell_type": "code",
      "source": [
        "with torch.no_grad():\n",
        "  w -= w.grad * 1e-5\n",
        "  b -= b.grad * 1e-5"
      ],
      "metadata": {
        "id": "94m3W1sKfBVH"
      },
      "execution_count": null,
      "outputs": []
    },
    {
      "cell_type": "code",
      "source": [
        "w,b"
      ],
      "metadata": {
        "colab": {
          "base_uri": "https://localhost:8080/"
        },
        "id": "isFnm_3HfpLR",
        "outputId": "aaba6e3f-1583-4d1c-97a1-685d9e02a5e0"
      },
      "execution_count": null,
      "outputs": [
        {
          "output_type": "execute_result",
          "data": {
            "text/plain": [
              "(tensor([[-0.5258, -1.4449,  1.6591],\n",
              "         [-1.1021,  0.5325,  1.1675]], requires_grad=True),\n",
              " tensor([0.3631, 0.4517], requires_grad=True))"
            ]
          },
          "metadata": {},
          "execution_count": 78
        }
      ]
    },
    {
      "cell_type": "code",
      "source": [
        "#lets verify that the loss is actually lower\n",
        "pred = model(input)\n",
        "loss = mse(pred, target)\n",
        "print(loss)"
      ],
      "metadata": {
        "colab": {
          "base_uri": "https://localhost:8080/"
        },
        "id": "bPT151Xxfp90",
        "outputId": "9f93a7cf-6b68-46c2-a21b-3bd43533cb56"
      },
      "execution_count": null,
      "outputs": [
        {
          "output_type": "stream",
          "name": "stdout",
          "text": [
            "tensor(3653.2886, grad_fn=<DivBackward0>)\n"
          ]
        }
      ]
    },
    {
      "cell_type": "code",
      "source": [
        "w.grad.zero_()\n",
        "b.grad.zero_()\n",
        "print(w.grad)\n",
        "print(b.grad)"
      ],
      "metadata": {
        "colab": {
          "base_uri": "https://localhost:8080/"
        },
        "id": "2kyWHblXgDzk",
        "outputId": "709d266e-90eb-4b99-fe1c-45c21538caad"
      },
      "execution_count": null,
      "outputs": [
        {
          "output_type": "stream",
          "name": "stdout",
          "text": [
            "tensor([[0., 0., 0.],\n",
            "        [0., 0., 0.]])\n",
            "tensor([0., 0.])\n"
          ]
        }
      ]
    },
    {
      "cell_type": "code",
      "source": [],
      "metadata": {
        "id": "wPAf7NxMgdxo"
      },
      "execution_count": null,
      "outputs": []
    },
    {
      "cell_type": "markdown",
      "source": [
        "## **Train the model using G.D**"
      ],
      "metadata": {
        "id": "75Hz6wXrg-XQ"
      }
    },
    {
      "cell_type": "code",
      "source": [
        "#generate prediction\n",
        "pred = model(input)\n",
        "print(pred)"
      ],
      "metadata": {
        "colab": {
          "base_uri": "https://localhost:8080/"
        },
        "id": "BYPpTOIrhEG7",
        "outputId": "3d5da7b7-5382-4fc5-e9f7-2e379b453805"
      },
      "execution_count": null,
      "outputs": [
        {
          "output_type": "stream",
          "name": "stdout",
          "text": [
            "tensor([[ 12.8298,  59.5822],\n",
            "        [-26.6108,  78.3587],\n",
            "        [ 16.1096,  98.6997],\n",
            "        [ 10.2008,  54.0716],\n",
            "        [ 33.3361, 102.5651]], grad_fn=<AddBackward0>)\n"
          ]
        }
      ]
    },
    {
      "cell_type": "code",
      "source": [
        "#calc. loss\n",
        "loss = mse(pred, target)\n",
        "print(loss)"
      ],
      "metadata": {
        "colab": {
          "base_uri": "https://localhost:8080/"
        },
        "id": "SkDuhiiLhLdD",
        "outputId": "fbc38c4e-054b-4157-8a66-e9d0408aa3da"
      },
      "execution_count": null,
      "outputs": [
        {
          "output_type": "stream",
          "name": "stdout",
          "text": [
            "tensor(3653.2886, grad_fn=<DivBackward0>)\n"
          ]
        }
      ]
    },
    {
      "cell_type": "code",
      "source": [
        "#compute gradient\n",
        "loss.backward()\n",
        "print(w.grad)\n",
        "print(b.grad)"
      ],
      "metadata": {
        "colab": {
          "base_uri": "https://localhost:8080/"
        },
        "id": "IcpdBFB-hWcE",
        "outputId": "b59bb1af-a389-4a56-e616-3685583fad08"
      },
      "execution_count": null,
      "outputs": [
        {
          "output_type": "stream",
          "name": "stdout",
          "text": [
            "tensor([[-4084.5000, -5171.0493, -5763.1074],\n",
            "        [  508.3135,  1420.6321,  1705.2369]])\n",
            "tensor([-67.2269,  19.0554])\n"
          ]
        }
      ]
    },
    {
      "cell_type": "code",
      "source": [
        "#adjust weight and reset gradient\n",
        "with torch.no_grad():\n",
        "  w -= w.grad * 1e-5\n",
        "  b -= b.grad * 1e-5\n",
        "  w.grad.zero_()\n",
        "  b.grad.zero_()"
      ],
      "metadata": {
        "id": "zoO3sSb6hftg"
      },
      "execution_count": null,
      "outputs": []
    },
    {
      "cell_type": "code",
      "source": [
        "print(w)\n",
        "print(b)"
      ],
      "metadata": {
        "colab": {
          "base_uri": "https://localhost:8080/"
        },
        "id": "YK48t7hoh7Vf",
        "outputId": "047d72fc-fea5-4d73-bd1d-f00168145429"
      },
      "execution_count": null,
      "outputs": [
        {
          "output_type": "stream",
          "name": "stdout",
          "text": [
            "tensor([[-0.4850, -1.3932,  1.7167],\n",
            "        [-1.1072,  0.5183,  1.1504]], requires_grad=True)\n",
            "tensor([0.3638, 0.4515], requires_grad=True)\n"
          ]
        }
      ]
    },
    {
      "cell_type": "code",
      "source": [
        "#calc. loss\n",
        "pred = model(input)\n",
        "loss = mse(pred, target)\n",
        "print(loss)"
      ],
      "metadata": {
        "colab": {
          "base_uri": "https://localhost:8080/"
        },
        "id": "FA1B-2qnh-q0",
        "outputId": "23c609cb-dc8c-4de0-e14e-da92535e376d"
      },
      "execution_count": null,
      "outputs": [
        {
          "output_type": "stream",
          "name": "stdout",
          "text": [
            "tensor(2901.9631, grad_fn=<DivBackward0>)\n"
          ]
        }
      ]
    },
    {
      "cell_type": "markdown",
      "source": [
        "## Train for Multiple Epochs"
      ],
      "metadata": {
        "id": "w7NFoSWYib74"
      }
    },
    {
      "cell_type": "code",
      "source": [
        "#train for 200 epochs\n",
        "for i in range(200):\n",
        "  pred = model(input)\n",
        "  loss = mse(pred, target)\n",
        "  loss.backward()\n",
        "  with torch.no_grad():\n",
        "    w -= w.grad * 1e-5\n",
        "    b -= b.grad * 1e-5\n",
        "    w.grad.zero_()\n",
        "    b.grad.zero_()"
      ],
      "metadata": {
        "id": "QbNH6QaiihZs"
      },
      "execution_count": null,
      "outputs": []
    },
    {
      "cell_type": "code",
      "source": [
        "#calc. loss\n",
        "pred = model(input)\n",
        "loss = mse(pred, target)\n",
        "print(loss)"
      ],
      "metadata": {
        "colab": {
          "base_uri": "https://localhost:8080/"
        },
        "id": "sV9PP6hTjKYF",
        "outputId": "30b633ce-efeb-4842-89da-f9284756e47a"
      },
      "execution_count": null,
      "outputs": [
        {
          "output_type": "stream",
          "name": "stdout",
          "text": [
            "tensor(393.5358, grad_fn=<DivBackward0>)\n"
          ]
        }
      ]
    },
    {
      "cell_type": "code",
      "source": [
        "#prediction\n",
        "pred"
      ],
      "metadata": {
        "colab": {
          "base_uri": "https://localhost:8080/"
        },
        "id": "cvTP5_fXjO2S",
        "outputId": "7c6cffc6-3261-459b-b640-cdcecf3fb03f"
      },
      "execution_count": null,
      "outputs": [
        {
          "output_type": "execute_result",
          "data": {
            "text/plain": [
              "tensor([[83.6535, 62.1181],\n",
              "        [56.3503, 58.0362],\n",
              "        [79.5778, 61.8579],\n",
              "        [83.9460, 62.7105],\n",
              "        [81.3724, 57.4972]], grad_fn=<AddBackward0>)"
            ]
          },
          "metadata": {},
          "execution_count": 98
        }
      ]
    },
    {
      "cell_type": "code",
      "source": [
        "#target\n",
        "target"
      ],
      "metadata": {
        "colab": {
          "base_uri": "https://localhost:8080/"
        },
        "id": "zaeEqsBkjd7V",
        "outputId": "17a647f5-0db9-42a1-d0aa-687d7a87e5ac"
      },
      "execution_count": null,
      "outputs": [
        {
          "output_type": "execute_result",
          "data": {
            "text/plain": [
              "tensor([[79., 69.],\n",
              "        [99., 69.],\n",
              "        [68., 52.],\n",
              "        [79., 79.],\n",
              "        [57., 29.]])"
            ]
          },
          "metadata": {},
          "execution_count": 99
        }
      ]
    },
    {
      "cell_type": "code",
      "source": [
        "from torch.utils.data import TensorDataset"
      ],
      "metadata": {
        "id": "QIPLKlV2jiaG"
      },
      "execution_count": null,
      "outputs": []
    },
    {
      "cell_type": "code",
      "source": [
        "train_ds = TensorDataset(input, target)\n",
        "train_ds[0:3]"
      ],
      "metadata": {
        "colab": {
          "base_uri": "https://localhost:8080/"
        },
        "id": "Eo7Fy-LO0gP8",
        "outputId": "08d2ef59-caab-4425-b2d1-38eb20b78cff"
      },
      "execution_count": null,
      "outputs": [
        {
          "output_type": "execute_result",
          "data": {
            "text/plain": [
              "(tensor([[73., 67., 89.],\n",
              "         [56., 89., 79.],\n",
              "         [46., 78., 92.]]),\n",
              " tensor([[79., 69.],\n",
              "         [99., 69.],\n",
              "         [68., 52.]]))"
            ]
          },
          "metadata": {},
          "execution_count": 101
        }
      ]
    },
    {
      "cell_type": "code",
      "source": [
        "from torch.utils.data import DataLoader #it split our data into batches of pre-defined size"
      ],
      "metadata": {
        "id": "XwFYwEsB0oiG"
      },
      "execution_count": null,
      "outputs": []
    },
    {
      "cell_type": "code",
      "source": [
        "batch_size = 5\n",
        "train_dl = DataLoader(train_ds, batch_size, shuffle = True)"
      ],
      "metadata": {
        "id": "-d-s9IbE1AeB"
      },
      "execution_count": null,
      "outputs": []
    },
    {
      "cell_type": "code",
      "source": [
        "input"
      ],
      "metadata": {
        "colab": {
          "base_uri": "https://localhost:8080/"
        },
        "id": "SUdeLV771N73",
        "outputId": "c42b6b2d-2daa-4a9d-b6af-a8572bc7cdaf"
      },
      "execution_count": null,
      "outputs": [
        {
          "output_type": "execute_result",
          "data": {
            "text/plain": [
              "tensor([[73., 67., 89.],\n",
              "        [56., 89., 79.],\n",
              "        [46., 78., 92.],\n",
              "        [78., 67., 89.],\n",
              "        [34., 67., 89.]])"
            ]
          },
          "metadata": {},
          "execution_count": 104
        }
      ]
    },
    {
      "cell_type": "code",
      "source": [
        "for xb, yb in train_dl:\n",
        "  print(xb)\n",
        "  print(yb)\n",
        "  break"
      ],
      "metadata": {
        "colab": {
          "base_uri": "https://localhost:8080/"
        },
        "id": "gJiij1al1qA1",
        "outputId": "224b5cbe-b852-47b2-d479-c11600338db5"
      },
      "execution_count": null,
      "outputs": [
        {
          "output_type": "stream",
          "name": "stdout",
          "text": [
            "tensor([[73., 67., 89.],\n",
            "        [34., 67., 89.],\n",
            "        [56., 89., 79.],\n",
            "        [46., 78., 92.],\n",
            "        [78., 67., 89.]])\n",
            "tensor([[79., 69.],\n",
            "        [57., 29.],\n",
            "        [99., 69.],\n",
            "        [68., 52.],\n",
            "        [79., 79.]])\n"
          ]
        }
      ]
    },
    {
      "cell_type": "code",
      "source": [
        "import torch.nn as nn"
      ],
      "metadata": {
        "id": "U3hswIen110A"
      },
      "execution_count": null,
      "outputs": []
    },
    {
      "cell_type": "markdown",
      "source": [
        "## **NN**.**Linear**"
      ],
      "metadata": {
        "id": "rpRUV07-2G8m"
      }
    },
    {
      "cell_type": "code",
      "source": [
        "#define model\n",
        "model = nn.Linear(3,2)\n",
        "print(model.weight)\n",
        "print(model.bias)"
      ],
      "metadata": {
        "colab": {
          "base_uri": "https://localhost:8080/"
        },
        "id": "TvlpvgDO2N87",
        "outputId": "d61aed03-5dec-45de-a7f1-e33117b151d0"
      },
      "execution_count": null,
      "outputs": [
        {
          "output_type": "stream",
          "name": "stdout",
          "text": [
            "Parameter containing:\n",
            "tensor([[ 0.3452, -0.0816, -0.2771],\n",
            "        [-0.3707, -0.1247, -0.5456]], requires_grad=True)\n",
            "Parameter containing:\n",
            "tensor([-0.1642,  0.4622], requires_grad=True)\n"
          ]
        }
      ]
    },
    {
      "cell_type": "code",
      "source": [
        "#parameters\n",
        "list(model.parameters())"
      ],
      "metadata": {
        "colab": {
          "base_uri": "https://localhost:8080/"
        },
        "id": "125G19XB2aAh",
        "outputId": "a3be81b9-a389-4f8f-9b83-8718912ce3ba"
      },
      "execution_count": null,
      "outputs": [
        {
          "output_type": "execute_result",
          "data": {
            "text/plain": [
              "[Parameter containing:\n",
              " tensor([[ 0.3452, -0.0816, -0.2771],\n",
              "         [-0.3707, -0.1247, -0.5456]], requires_grad=True),\n",
              " Parameter containing:\n",
              " tensor([-0.1642,  0.4622], requires_grad=True)]"
            ]
          },
          "metadata": {},
          "execution_count": 109
        }
      ]
    },
    {
      "cell_type": "code",
      "source": [
        "#generate prediction\n",
        "pred = model(input)\n",
        "pred"
      ],
      "metadata": {
        "colab": {
          "base_uri": "https://localhost:8080/"
        },
        "id": "xcpFXmMs23_K",
        "outputId": "fb379fa7-bcf1-412a-9d31-ed0a44c7e716"
      },
      "execution_count": null,
      "outputs": [
        {
          "output_type": "execute_result",
          "data": {
            "text/plain": [
              "tensor([[ -5.0957, -83.5079],\n",
              "        [ -9.9890, -74.4937],\n",
              "        [-16.1461, -76.5080],\n",
              "        [ -3.3696, -85.3612],\n",
              "        [-18.5596, -69.0516]], grad_fn=<AddmmBackward0>)"
            ]
          },
          "metadata": {},
          "execution_count": 110
        }
      ]
    },
    {
      "cell_type": "markdown",
      "source": [
        "## **Loss Function**"
      ],
      "metadata": {
        "id": "RdL_jaBX3TjP"
      }
    },
    {
      "cell_type": "code",
      "source": [
        "#import nn.functional\n",
        "import torch.nn.functional as F"
      ],
      "metadata": {
        "id": "IO2xUaEK3E_n"
      },
      "execution_count": null,
      "outputs": []
    },
    {
      "cell_type": "code",
      "source": [
        "#define loss funct.\n",
        "loss_fn = F.mse_loss"
      ],
      "metadata": {
        "id": "EgS6jxUF3hAt"
      },
      "execution_count": null,
      "outputs": []
    },
    {
      "cell_type": "code",
      "source": [
        "loss = loss_fn(model(input), target)\n",
        "print(loss)"
      ],
      "metadata": {
        "colab": {
          "base_uri": "https://localhost:8080/"
        },
        "id": "iMel9dAC3ruF",
        "outputId": "10492634-2d8c-46d6-e004-d54c0866248c"
      },
      "execution_count": null,
      "outputs": [
        {
          "output_type": "stream",
          "name": "stdout",
          "text": [
            "tensor(13551.7344, grad_fn=<MseLossBackward0>)\n"
          ]
        }
      ]
    },
    {
      "cell_type": "markdown",
      "source": [
        "## **Optimizer**"
      ],
      "metadata": {
        "id": "jk63rM0H4BHs"
      }
    },
    {
      "cell_type": "code",
      "source": [
        "#define optimizer\n",
        "opt = torch.optim.SGD(model.parameters(), lr=1e-5) #stochastic G.D indicates sample are selected in random batches instead of single groups"
      ],
      "metadata": {
        "id": "WMvzri_G4IEK"
      },
      "execution_count": null,
      "outputs": []
    },
    {
      "cell_type": "code",
      "source": [],
      "metadata": {
        "id": "UqNcWUFA4ZDD"
      },
      "execution_count": null,
      "outputs": []
    },
    {
      "cell_type": "markdown",
      "source": [
        "### **Train the Model**"
      ],
      "metadata": {
        "id": "8jKPIagW5HHw"
      }
    },
    {
      "cell_type": "code",
      "source": [
        "# define a utility funct. for train the model\n",
        "def fit(num_epochs, model, loss_fn, opt, train_dl):\n",
        "\n",
        "  #repeat for given number of epochs\n",
        "  for epochs in range(num_epochs):\n",
        "\n",
        "    #train with batchs of data\n",
        "    for xb, yb in train_dl:\n",
        "\n",
        "      pred = model(xb)  # generate prediction\n",
        "      loss = loss_fn(pred, yb)  #calc. loss\n",
        "      loss.backward() #compute gradient\n",
        "      opt.step()  #update parameters using gradients\n",
        "      opt.zero_grad()  #reset gradient to zero\n",
        "\n",
        "    if (epochs+1) % 10 == 0: #print the progress\n",
        "      print('Epoch [{}/{}], Loss: {:.4f}'.format(epochs+1,num_epochs, loss.item()))"
      ],
      "metadata": {
        "id": "NlzO2-bY5K_U"
      },
      "execution_count": null,
      "outputs": []
    },
    {
      "cell_type": "code",
      "source": [
        "fit(100, model, loss_fn, opt, train_dl)"
      ],
      "metadata": {
        "colab": {
          "base_uri": "https://localhost:8080/"
        },
        "id": "bXrkjCf_6Z-U",
        "outputId": "2a1a5342-af4e-462c-d463-b0770de1b3f2"
      },
      "execution_count": null,
      "outputs": [
        {
          "output_type": "stream",
          "name": "stdout",
          "text": [
            "Epoch [10/100], Loss: 699.8545\n",
            "Epoch [20/100], Loss: 180.3588\n",
            "Epoch [30/100], Loss: 160.4640\n",
            "Epoch [40/100], Loss: 154.5814\n",
            "Epoch [50/100], Loss: 149.3117\n",
            "Epoch [60/100], Loss: 144.2752\n",
            "Epoch [70/100], Loss: 139.4516\n",
            "Epoch [80/100], Loss: 134.8309\n",
            "Epoch [90/100], Loss: 130.4039\n",
            "Epoch [100/100], Loss: 126.1618\n"
          ]
        }
      ]
    },
    {
      "cell_type": "code",
      "source": [
        "#generate prediction\n",
        "pred = model(input)\n",
        "pred"
      ],
      "metadata": {
        "colab": {
          "base_uri": "https://localhost:8080/"
        },
        "id": "wT8UaRvv7K6F",
        "outputId": "93e629a8-7a59-4729-cbe1-903e073dd009"
      },
      "execution_count": null,
      "outputs": [
        {
          "output_type": "execute_result",
          "data": {
            "text/plain": [
              "tensor([[83.6771, 62.2183],\n",
              "        [80.2584, 65.6384],\n",
              "        [71.7265, 59.2611],\n",
              "        [86.7589, 63.7272],\n",
              "        [59.6389, 50.4483]], grad_fn=<AddmmBackward0>)"
            ]
          },
          "metadata": {},
          "execution_count": 122
        }
      ]
    },
    {
      "cell_type": "code",
      "source": [
        "#compare with target\n",
        "target"
      ],
      "metadata": {
        "colab": {
          "base_uri": "https://localhost:8080/"
        },
        "id": "29nzWfnS7Vv6",
        "outputId": "aae35ea4-cd02-4094-81f2-ceea034d5c85"
      },
      "execution_count": null,
      "outputs": [
        {
          "output_type": "execute_result",
          "data": {
            "text/plain": [
              "tensor([[79., 69.],\n",
              "        [99., 69.],\n",
              "        [68., 52.],\n",
              "        [79., 79.],\n",
              "        [57., 29.]])"
            ]
          },
          "metadata": {},
          "execution_count": 123
        }
      ]
    },
    {
      "cell_type": "code",
      "source": [
        "model(torch.tensor([[75, 63, 44.]]))"
      ],
      "metadata": {
        "colab": {
          "base_uri": "https://localhost:8080/"
        },
        "id": "g9gj5R8L7ZEE",
        "outputId": "cdf29eda-7e42-4cc2-eb82-2167f30749f7"
      },
      "execution_count": null,
      "outputs": [
        {
          "output_type": "execute_result",
          "data": {
            "text/plain": [
              "tensor([[76.8294, 55.9068]], grad_fn=<AddmmBackward0>)"
            ]
          },
          "metadata": {},
          "execution_count": 124
        }
      ]
    },
    {
      "cell_type": "markdown",
      "source": [
        "## **Machine** **Learning** **vs**. **Classical** **Programming**\n",
        "\n",
        "*Machine learning involves teaching a computer to recognise patterns by example, rather than programming it with specific rules. These patterns can be found in the data. In other words, ML is about creating algorithms (or a set of rules) that learn from complex functions (patterns) from data and make predictions on it (a form of “narrow AI”). ML learns from data and can be reused for unseen, future, or new data without rewriting code. Put another way, with ML, you start with a problem, identify data associated with that problem, use an algorithm to then model that problem, and generate output.*\n",
        "\n",
        "*Classical Programming uses data and static, hard-coded rules to generate results whereas Machine Learning uses historical data or output, combined with new data, to generate new rules in a training model.*\n",
        "\n",
        "\n",
        "![Machine-Learning-in-contrast-to-classical-programming-according-to-26-p-5-Machine.png](data:image/png;base64,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)"
      ],
      "metadata": {
        "id": "oJsJKMkw8Enx"
      }
    },
    {
      "cell_type": "code",
      "source": [],
      "metadata": {
        "id": "HLki1mtk8klW"
      },
      "execution_count": null,
      "outputs": []
    }
  ]
}